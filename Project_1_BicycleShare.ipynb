{
 "cells": [
  {
   "cell_type": "code",
   "execution_count": 1,
   "metadata": {},
   "outputs": [],
   "source": [
    "import pandas as pd"
   ]
  },
  {
   "cell_type": "code",
   "execution_count": null,
   "metadata": {},
   "outputs": [],
   "source": [
    "jan = pd.read_csv('Resources/202001-citibike-tripdata.csv')\n",
    "feb = pd.read_csv('Resources/202002-citibike-tripdata.csv')\n",
    "mar = pd.read_csv('Resources/202003-citibike-tripdata.csv')\n",
    "apr = pd.read_csv('Resources/202004-citibike-tripdata.csv')\n",
    "may = pd.read_csv('Resources/202005-citibike-tripdata.csv')\n",
    "jun = pd.read_csv('Resources/202006-citibike-tripdata.csv')\n",
    "jul = pd.read_csv('Resources/202007-citibike-tripdata.csv')\n",
    "aug = pd.read_csv('Resources/202008-citibike-tripdata.csv')\n",
    "sep = pd.read_csv('Resources/202009-citibike-tripdata.csv')\n",
    "octo = pd.read_csv('Resources/202010-citibike-tripdata.csv')\n",
    "nov = pd.read_csv('Resources/202011-citibike-tripdata.csv')\n",
    "dec = pd.read_csv('Resources/202012-citibike-tripdata.csv')\n",
    "\n",
    "jan.head()"
   ]
  },
  {
   "cell_type": "code",
   "execution_count": null,
   "metadata": {},
   "outputs": [],
   "source": [
    "jf = jan.append(feb)\n",
    "\n",
    "jf.dropna()\n",
    "\n",
    "jfm = jf.append(mar)\n",
    "\n",
    "jfm.dropna()\n",
    "\n",
    "jfma = jfm.append(apr)\n",
    "\n",
    "jfma.dropna()\n",
    "\n",
    "jfmam = jfma.append(may)\n",
    "\n",
    "jfmam.dropna()\n",
    "\n",
    "jfmamj = jfmam.append(jun)\n",
    "\n",
    "jfmamj.dropna()\n",
    "\n",
    "jfmamjj = jfmamj.append(jul)\n",
    "\n",
    "jfmamjj.dropna()\n",
    "\n",
    "jfmamjja = jfmamjj.append(aug)\n",
    "\n",
    "jfmamjja.dropna()\n",
    "\n",
    "jfmamjjas = jfmamjja.append(sep)\n",
    "\n",
    "jfmamjjas.dropna()\n",
    "\n",
    "jfmamjjaso = jfmamjjas.append(octo)\n",
    "\n",
    "jfmamjjaso.dropna()\n",
    "\n",
    "jfmamjjason = jfmamjjaso.append(nov)\n",
    "\n",
    "jfmamjjason.dropna()\n",
    "\n",
    "full_dataset = jfmamjjason.append(dec)\n",
    "\n",
    "full_dataset.dropna()\n",
    "\n",
    "full_dataset.head()"
   ]
  }
 ],
 "metadata": {
  "kernelspec": {
   "display_name": "Python 3",
   "language": "python",
   "name": "python3"
  },
  "language_info": {
   "codemirror_mode": {
    "name": "ipython",
    "version": 3
   },
   "file_extension": ".py",
   "mimetype": "text/x-python",
   "name": "python",
   "nbconvert_exporter": "python",
   "pygments_lexer": "ipython3",
   "version": "3.8.5"
  }
 },
 "nbformat": 4,
 "nbformat_minor": 4
}
