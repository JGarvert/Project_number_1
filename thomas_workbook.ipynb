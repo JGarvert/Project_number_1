{
 "cells": [
  {
   "cell_type": "markdown",
   "id": "floral-conjunction",
   "metadata": {},
   "source": [
    "This is where my work lives."
   ]
  },
  {
   "cell_type": "code",
   "execution_count": null,
   "id": "baking-threshold",
   "metadata": {},
   "outputs": [],
   "source": []
  }
 ],
 "metadata": {
  "kernelspec": {
   "display_name": "Python 3",
   "language": "python",
   "name": "python3"
  },
  "language_info": {
   "codemirror_mode": {
    "name": "ipython",
    "version": 3
   },
   "file_extension": ".py",
   "mimetype": "text/x-python",
   "name": "python",
   "nbconvert_exporter": "python",
   "pygments_lexer": "ipython3",
   "version": "3.6.10"
  }
 },
 "nbformat": 4,
 "nbformat_minor": 5
}
